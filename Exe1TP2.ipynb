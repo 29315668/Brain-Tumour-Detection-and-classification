{
  "nbformat": 4,
  "nbformat_minor": 0,
  "metadata": {
    "colab": {
      "provenance": [],
      "include_colab_link": true
    },
    "kernelspec": {
      "name": "python3",
      "display_name": "Python 3"
    },
    "language_info": {
      "name": "python"
    }
  },
  "cells": [
    {
      "cell_type": "markdown",
      "metadata": {
        "id": "view-in-github",
        "colab_type": "text"
      },
      "source": [
        "<a href=\"https://colab.research.google.com/github/29315668/Brain-Tumour-Detection-and-classification/blob/master/Exe1TP2.ipynb\" target=\"_parent\"><img src=\"https://colab.research.google.com/assets/colab-badge.svg\" alt=\"Open In Colab\"/></a>"
      ]
    },
    {
      "cell_type": "code",
      "execution_count": null,
      "metadata": {
        "id": "lOCEn3G3_-yq"
      },
      "outputs": [],
      "source": []
    },
    {
      "cell_type": "code",
      "source": [
        "from google.colab import drive\n",
        "drive.mount('/content/drive')"
      ],
      "metadata": {
        "colab": {
          "base_uri": "https://localhost:8080/"
        },
        "id": "KNdad3mIA6ZK",
        "outputId": "1f632432-8bf9-4d5c-e973-14d2ed3a4c0e"
      },
      "execution_count": 2,
      "outputs": [
        {
          "output_type": "stream",
          "name": "stdout",
          "text": [
            "Mounted at /content/drive\n"
          ]
        }
      ]
    },
    {
      "cell_type": "code",
      "source": [
        "pip install pyspark"
      ],
      "metadata": {
        "colab": {
          "base_uri": "https://localhost:8080/"
        },
        "id": "4akfTj5DFYFM",
        "outputId": "cd206488-f592-405e-9f93-4cbf54446bc6"
      },
      "execution_count": 3,
      "outputs": [
        {
          "output_type": "stream",
          "name": "stdout",
          "text": [
            "Collecting pyspark\n",
            "  Downloading pyspark-3.5.0.tar.gz (316.9 MB)\n",
            "\u001b[2K     \u001b[90m━━━━━━━━━━━━━━━━━━━━━━━━━━━━━━━━━━━━━━━━\u001b[0m \u001b[32m316.9/316.9 MB\u001b[0m \u001b[31m4.4 MB/s\u001b[0m eta \u001b[36m0:00:00\u001b[0m\n",
            "\u001b[?25h  Preparing metadata (setup.py) ... \u001b[?25l\u001b[?25hdone\n",
            "Requirement already satisfied: py4j==0.10.9.7 in /usr/local/lib/python3.10/dist-packages (from pyspark) (0.10.9.7)\n",
            "Building wheels for collected packages: pyspark\n",
            "  Building wheel for pyspark (setup.py) ... \u001b[?25l\u001b[?25hdone\n",
            "  Created wheel for pyspark: filename=pyspark-3.5.0-py2.py3-none-any.whl size=317425345 sha256=7cdc0517042c490b3b189ab4208316c8be450531bd2769ef96e91d772e4c0189\n",
            "  Stored in directory: /root/.cache/pip/wheels/41/4e/10/c2cf2467f71c678cfc8a6b9ac9241e5e44a01940da8fbb17fc\n",
            "Successfully built pyspark\n",
            "Installing collected packages: pyspark\n",
            "Successfully installed pyspark-3.5.0\n"
          ]
        }
      ]
    },
    {
      "cell_type": "code",
      "source": [
        "import pyspark\n",
        "import pyspark.sql  as pyspark_sql\n",
        "import pyspark.sql.types as pyspark_types\n",
        "import pyspark.sql.functions  as pyspark_functions\n",
        "from pyspark import SparkContext, SparkConf\n",
        "from pyspark.sql import SparkSession"
      ],
      "metadata": {
        "id": "gKlWrpR3GFao"
      },
      "execution_count": 4,
      "outputs": []
    },
    {
      "cell_type": "code",
      "source": [
        "spark = SparkSession.builder.appName(\"EX1\").getOrCreate()\n",
        "sc = spark.sparkContext"
      ],
      "metadata": {
        "id": "YJm7N48JJZi_"
      },
      "execution_count": 5,
      "outputs": []
    },
    {
      "cell_type": "code",
      "source": [
        "\n",
        "bus = sc.textFile(\"/content/bus.txt\")\n",
        "bus.take(5)"
      ],
      "metadata": {
        "colab": {
          "base_uri": "https://localhost:8080/"
        },
        "id": "KRULKhQ2Gtem",
        "outputId": "b84a93d7-4d7a-489a-b2a5-a4a3cdeceb34"
      },
      "execution_count": null,
      "outputs": [
        {
          "output_type": "execute_result",
          "data": {
            "text/plain": [
              "['2015-2016,Special Ed AM Run,48186,N758,Other,2015-09-02T06:27:00,0',\n",
              " '2015-2016,Special Ed AM Run,2518,L530,Mechanical Problem,2015-09-02T06:24:00,0',\n",
              " '2015-2016,Special Ed AM Run,235,K168,Other,2015-09-02T06:45:00,0',\n",
              " '2015-2016,Special Ed AM Run,2102,K216,Other,2015-09-02T06:55:00,1',\n",
              " '2015-2016,Special Ed AM Run,48162,N861,Mechanical Problem,2015-09-02T06:55:00,0']"
            ]
          },
          "metadata": {},
          "execution_count": 29
        }
      ]
    },
    {
      "cell_type": "code",
      "source": [
        "reasonCount=bus.map(lambda x:x.split(\",\")[4]).countByValue()\n",
        "topreason=sorted(reasonCount.items(),key=lambda x:-x[1])[:5]\n",
        "print(topreason)"
      ],
      "metadata": {
        "colab": {
          "base_uri": "https://localhost:8080/"
        },
        "id": "L_YZwwuZKg7e",
        "outputId": "b82ba9a5-58de-452c-f18b-d87c23abf2a6"
      },
      "execution_count": null,
      "outputs": [
        {
          "output_type": "stream",
          "name": "stdout",
          "text": [
            "[('Heavy Traffic', 170660), ('Other', 37019), ('Mechanical Problem', 27821), ('Won`t Start', 12172), ('Flat Tire', 8307)]\n"
          ]
        }
      ]
    },
    {
      "cell_type": "code",
      "source": [
        "#methode 1\n",
        "routCount=bus.map(lambda x:x.split(\",\")[3]).countByValue()\n",
        "toprout=sorted(routCount.items(),key=lambda x:-x[1])[:5]\n",
        "print(toprout)"
      ],
      "metadata": {
        "colab": {
          "base_uri": "https://localhost:8080/"
        },
        "id": "dvhCdXVMNVCL",
        "outputId": "8bd7af2c-6763-4b56-d138-02abe3bd4683"
      },
      "execution_count": null,
      "outputs": [
        {
          "output_type": "stream",
          "name": "stdout",
          "text": [
            "[('1', 3879), ('2', 2933), ('5', 2530), ('3', 2486), ('4', 1480)]\n"
          ]
        }
      ]
    },
    {
      "cell_type": "code",
      "source": [
        "#methode 2\n",
        "routeCount=bus.map(lambda x:(x.split(\",\")[3],1)).reduceByKey(lambda x,y:x+y)\n",
        "topRoute=sorted(routeCount.collect(),key=lambda x:-x[1])[:5]\n",
        "print(topRoute)"
      ],
      "metadata": {
        "colab": {
          "base_uri": "https://localhost:8080/"
        },
        "id": "Vzcl0VcWNw_k",
        "outputId": "43060e72-2cee-4a88-b975-1577ff9db218"
      },
      "execution_count": null,
      "outputs": [
        {
          "output_type": "stream",
          "name": "stdout",
          "text": [
            "[('1', 3879), ('2', 2933), ('5', 2530), ('3', 2486), ('4', 1480)]\n"
          ]
        }
      ]
    },
    {
      "cell_type": "code",
      "source": [
        "incident_with_students=bus.filter(lambda x:int(x.split(\",\")[6])>0)\n",
        "nbrStd = incident_with_students.count()\n",
        "print(nbrStd)"
      ],
      "metadata": {
        "colab": {
          "base_uri": "https://localhost:8080/"
        },
        "id": "Uq7_cKy1PWbD",
        "outputId": "cf8ce05a-5274-474b-a3b8-dabf234f1df8"
      },
      "execution_count": null,
      "outputs": [
        {
          "output_type": "stream",
          "name": "stdout",
          "text": [
            "109276\n"
          ]
        }
      ]
    },
    {
      "cell_type": "code",
      "source": [
        "incident_with_students=bus.filter(lambda x:int(x.split(\",\")[6])==0)\n",
        "nbrStd = incident_with_students.count()\n",
        "print(nbrStd)"
      ],
      "metadata": {
        "colab": {
          "base_uri": "https://localhost:8080/"
        },
        "id": "8X2sb-oTURnH",
        "outputId": "198effa0-8bb4-493d-e48a-7d4d16c4ca0a"
      },
      "execution_count": null,
      "outputs": [
        {
          "output_type": "stream",
          "name": "stdout",
          "text": [
            "167837\n"
          ]
        }
      ]
    },
    {
      "cell_type": "code",
      "source": [
        "#methode 1 question 5\n",
        "yearAccident=bus.map(lambda x:x.split(\",\")[0]).countByValue()\n",
        "moinAccident=sorted(yearAccident.items(),key=lambda x:x[1])[:1]\n",
        "print(moinAccident)"
      ],
      "metadata": {
        "colab": {
          "base_uri": "https://localhost:8080/"
        },
        "id": "KRtp1UUfUlv6",
        "outputId": "92fbf217-0b8f-4fac-e075-daa0c08d3050"
      },
      "execution_count": null,
      "outputs": [
        {
          "output_type": "stream",
          "name": "stdout",
          "text": [
            "[('2019-2020', 1)]\n"
          ]
        }
      ]
    },
    {
      "cell_type": "code",
      "source": [
        "#methode 2 question 5\n",
        "year=bus.map(lambda x:(x.split(\",\")[0],1)).reduceByKey(lambda x,y:x+y)\n",
        "topYear=year.min(lambda x:x[1])\n",
        "print(topYear)"
      ],
      "metadata": {
        "colab": {
          "base_uri": "https://localhost:8080/"
        },
        "id": "fCrzhMrHWBOG",
        "outputId": "42adcd87-61c0-4ab7-821c-2915f723242b"
      },
      "execution_count": null,
      "outputs": [
        {
          "output_type": "stream",
          "name": "stdout",
          "text": [
            "('2019-2020', 1)\n"
          ]
        }
      ]
    },
    {
      "cell_type": "markdown",
      "source": [
        "***Exercice 2***"
      ],
      "metadata": {
        "id": "JhTQVOJEXIzn"
      }
    },
    {
      "cell_type": "code",
      "source": [
        "chicago=sc.textFile(\"/content/chicago_crime_2016.csv\")"
      ],
      "metadata": {
        "id": "i1GmUT1ZXHFg"
      },
      "execution_count": 6,
      "outputs": []
    },
    {
      "cell_type": "code",
      "source": [
        "header=chicago.first()\n",
        "crimes=chicago.filter(lambda x: x!=header)"
      ],
      "metadata": {
        "id": "L-BXiX0IYgZt"
      },
      "execution_count": 7,
      "outputs": []
    },
    {
      "cell_type": "code",
      "source": [
        "crime_count=crimes.map(lambda x:(x.split(\",\")[5],1)).reduceByKey(lambda x,y:x+y).sortBy(lambda x:-x[1])\n",
        "crime_count.take(5)"
      ],
      "metadata": {
        "colab": {
          "base_uri": "https://localhost:8080/"
        },
        "id": "jwbG5DqUZR4Z",
        "outputId": "605032e1-fddb-4f6c-cb08-0745aca9c1e1"
      },
      "execution_count": 8,
      "outputs": [
        {
          "output_type": "execute_result",
          "data": {
            "text/plain": [
              "[('THEFT', 49603),\n",
              " ('BATTERY', 41950),\n",
              " ('CRIMINAL DAMAGE', 25573),\n",
              " ('ASSAULT', 15631),\n",
              " ('OTHER OFFENSE', 13971)]"
            ]
          },
          "metadata": {},
          "execution_count": 8
        }
      ]
    },
    {
      "cell_type": "markdown",
      "source": [
        "# Analyse des tendances des différents types de crimes au fil des mois"
      ],
      "metadata": {
        "id": "RW-GKtjVLT-A"
      }
    },
    {
      "cell_type": "code",
      "source": [
        "monthly_crime_counts = crimes.map(lambda crime: (crime.split(\",\")[2].split(\" \")[0] .split(\"/\")[0], 1)).reduceByKey(lambda x, y: x + y).sortByKey().collect()\n",
        "\n",
        "print(\"Monthly crime counts:\")\n",
        "print(monthly_crime_counts)\n",
        ""
      ],
      "metadata": {
        "colab": {
          "base_uri": "https://localhost:8080/"
        },
        "id": "EqQ6dFgk0UDd",
        "outputId": "aca8e3a8-3bfb-4b06-ee70-cdd50e86eeed"
      },
      "execution_count": 12,
      "outputs": [
        {
          "output_type": "stream",
          "name": "stdout",
          "text": [
            "Monthly crime counts:\n",
            "[('01', 20301), ('02', 18548), ('03', 21847), ('04', 20845), ('05', 23132), ('06', 23574), ('07', 24338), ('08', 24344), ('09', 22982), ('10', 17379)]\n"
          ]
        }
      ]
    },
    {
      "cell_type": "markdown",
      "source": [
        "# les trois principaux endroits  où les taux de crimes sont les plus élevés.\n"
      ],
      "metadata": {
        "id": "2S1HhDcQLdd-"
      }
    },
    {
      "cell_type": "code",
      "source": [
        "location_crime_counts = crimes.map(lambda crime: (crime.split(\",\")[7], 1)).reduceByKey(lambda x, y: x + y).sortBy(lambda x: -x[1]).take(3)\n",
        "\n",
        " # Print the top 3 crime locations and their incident counts\n",
        "\n",
        "for location, count in location_crime_counts:\n",
        "      print(f\"Location: {location},Incidents: (count)\")"
      ],
      "metadata": {
        "id": "RtsPVUzW_EIX",
        "outputId": "51199a19-4aa9-40f2-b8b5-2dac84b06ca2",
        "colab": {
          "base_uri": "https://localhost:8080/"
        }
      },
      "execution_count": 18,
      "outputs": [
        {
          "output_type": "stream",
          "name": "stdout",
          "text": [
            "Location: STREET,Incidents: (count)\n",
            "Location: RESIDENCE,Incidents: (count)\n",
            "Location: APARTMENT,Incidents: (count)\n"
          ]
        }
      ]
    },
    {
      "cell_type": "markdown",
      "source": [
        "# les trois principaux types de crimes en fonction du nombre d'incidents dans la zone est \"RESIDENCE\" en utilisant \"Location Description\""
      ],
      "metadata": {
        "id": "LYgb4vW4LmQ6"
      }
    },
    {
      "cell_type": "code",
      "source": [
        "residence_crimes =crimes.filter(lambda crime: crime.split(\",\")[7].upper()==\"RESIDENCE\")\n",
        "\n",
        "crime_type_counts_residence= residence_crimes.map(lambda crime: (crime.split(\",\")[5], 1)).reduceByKey(lambda x, y: x + y).sortBy(lambda x: -x[1]).take(3)\n",
        "\n",
        "print(crime_type_counts_residence)\n"
      ],
      "metadata": {
        "id": "ZHAF7XiTJV49",
        "outputId": "9839e54b-2325-4538-edb1-08622299efa9",
        "colab": {
          "base_uri": "https://localhost:8080/"
        }
      },
      "execution_count": 20,
      "outputs": [
        {
          "output_type": "stream",
          "name": "stdout",
          "text": [
            "[('BATTERY', 8178), ('OTHER OFFENSE', 5417), ('CRIMINAL DAMAGE', 4563)]\n"
          ]
        }
      ]
    },
    {
      "cell_type": "markdown",
      "source": [
        "# Le poucentage de crimes qui ménent à une arrestation"
      ],
      "metadata": {
        "id": "f-n8Kv3_LzDa"
      }
    },
    {
      "cell_type": "code",
      "source": [
        "total_crimes=crimes.count()\n",
        "arrested_crimes= crimes.filter(lambda crime: crime.split(\",\")[8]==\"True\").count()\n",
        "arrest_rate = (arrested_crimes/ total_crimes)*100\n",
        "print(\"Arrested rate:\", arrest_rate)"
      ],
      "metadata": {
        "id": "BKKj5w5cLC2c",
        "outputId": "d4aa9ec2-3007-47fc-f4d1-82d0bee03d72",
        "colab": {
          "base_uri": "https://localhost:8080/"
        }
      },
      "execution_count": 25,
      "outputs": [
        {
          "output_type": "stream",
          "name": "stdout",
          "text": [
            "Arrested rate: 0.0\n"
          ]
        }
      ]
    },
    {
      "cell_type": "markdown",
      "source": [
        "# Les jours de la semaine ou les taux de crimes sont les plus élevés et les plus faibles"
      ],
      "metadata": {
        "id": "Ybfzmt8NPO6h"
      }
    },
    {
      "cell_type": "code",
      "source": [
        "day_of_week_crime_counts =crimes.map(lambda crime: (crime.split(\",\")[2].split(\" \") [0] , 1)).reduceByKey(lambda x, y: x+y)\n",
        "higher_day_of_week_crime= day_of_week_crime_counts.max(lambda x: x[1])\n",
        "lower_day_of_week_crime =day_of_week_crime_counts.min(lambda x: x[1])\n",
        "print (f\"day with the highest crime rate: {higher_day_of_week_crime[0]}\")\n",
        "print (f\"day with the lowest crime rate: {lower_day_of_week_crime[0]}\")"
      ],
      "metadata": {
        "id": "NGngS1NyPPZj",
        "outputId": "aa1579fb-d5b5-464f-c05e-b5be1fd6d0d4",
        "colab": {
          "base_uri": "https://localhost:8080/"
        }
      },
      "execution_count": 30,
      "outputs": [
        {
          "output_type": "stream",
          "name": "stdout",
          "text": [
            "day with the highest crime rate: 07/30/2016\n",
            "day with the lowest crime rate: 01/18/2016\n"
          ]
        }
      ]
    },
    {
      "cell_type": "markdown",
      "source": [
        "# Le pourcentage d'affaires domestiques pour différents types de crimes"
      ],
      "metadata": {
        "id": "gSUIebgbZTXO"
      }
    },
    {
      "cell_type": "code",
      "source": [
        "domestic_crimes = crimes.filter(lambda crime: crime.split(\",\")[9] == \"true\").count()\n",
        "non_domestic_crimes = total_crimes - domestic_crimes\n",
        "domestic_percentage = (domestic_crimes / total_crimes)*100\n",
        "print(\"Percentage of domestic incidents:\", domestic_percentage)"
      ],
      "metadata": {
        "id": "3LkWvnUlYxQ3",
        "outputId": "484f8aba-d13b-4c74-b67e-62e57157c596",
        "colab": {
          "base_uri": "https://localhost:8080/"
        }
      },
      "execution_count": 33,
      "outputs": [
        {
          "output_type": "stream",
          "name": "stdout",
          "text": [
            "Percentage of domestic incidents: 16.303557457775323\n"
          ]
        }
      ]
    },
    {
      "cell_type": "markdown",
      "source": [
        "# Enquéter si certains types est plus couronts au cours de saisons ou de mois précis"
      ],
      "metadata": {
        "id": "ljP4Ygcfa39A"
      }
    },
    {
      "cell_type": "code",
      "source": [
        "monthly_crime_counts = crimes.map(lambda crime: (crime.split(\",\")[2].split(\" \")[0] .split(\"/\")[0], 1)).reduceByKey(lambda x, y: x + y).sortByKey(lambda x: -x[1]).take(1)\n",
        "print(\"Month with the most crimes:\", monthly_crime_counts)"
      ],
      "metadata": {
        "id": "jsSBmfs7bGlj",
        "outputId": "6cfbbc90-fe0c-4104-c39f-8df6fb397e6f",
        "colab": {
          "base_uri": "https://localhost:8080/"
        }
      },
      "execution_count": 47,
      "outputs": [
        {
          "output_type": "stream",
          "name": "stdout",
          "text": [
            "Month with the most crimes: [('01', 20301)]\n"
          ]
        }
      ]
    }
  ]
}